{
 "cells": [
  {
   "cell_type": "code",
   "execution_count": 1,
   "id": "a24da221",
   "metadata": {},
   "outputs": [],
   "source": [
    "import pandas as pd\n",
    "import numpy as np"
   ]
  },
  {
   "cell_type": "code",
   "execution_count": 2,
   "id": "d2122dd7",
   "metadata": {},
   "outputs": [],
   "source": [
    "df=pd.read_csv('C:\\\\Users\\\\Kishan\\\\Desktop\\\\Project\\\\ml_2022.csv')\n"
   ]
  },
  {
   "cell_type": "code",
   "execution_count": 3,
   "id": "be03bfde",
   "metadata": {},
   "outputs": [
    {
     "data": {
      "text/html": [
       "<div>\n",
       "<style scoped>\n",
       "    .dataframe tbody tr th:only-of-type {\n",
       "        vertical-align: middle;\n",
       "    }\n",
       "\n",
       "    .dataframe tbody tr th {\n",
       "        vertical-align: top;\n",
       "    }\n",
       "\n",
       "    .dataframe thead th {\n",
       "        text-align: right;\n",
       "    }\n",
       "</style>\n",
       "<table border=\"1\" class=\"dataframe\">\n",
       "  <thead>\n",
       "    <tr style=\"text-align: right;\">\n",
       "      <th></th>\n",
       "      <th>Loan Identifier</th>\n",
       "      <th>Customer Identification</th>\n",
       "      <th>Loan Type</th>\n",
       "      <th>Loan Source</th>\n",
       "      <th>Loan Related to</th>\n",
       "      <th>Principle Amount asked</th>\n",
       "      <th>Principle amount approved</th>\n",
       "      <th>disbursal date</th>\n",
       "      <th>writtenoff date</th>\n",
       "      <th>NPA Flag</th>\n",
       "      <th>Loan agent</th>\n",
       "      <th>Branch Code</th>\n",
       "    </tr>\n",
       "  </thead>\n",
       "  <tbody>\n",
       "    <tr>\n",
       "      <th>0</th>\n",
       "      <td>1723375</td>\n",
       "      <td>1314508</td>\n",
       "      <td>142</td>\n",
       "      <td>206</td>\n",
       "      <td>Null</td>\n",
       "      <td>60000.0</td>\n",
       "      <td>60000.0</td>\n",
       "      <td>2022-01-06</td>\n",
       "      <td>Null</td>\n",
       "      <td>0</td>\n",
       "      <td>4078</td>\n",
       "      <td>29</td>\n",
       "    </tr>\n",
       "    <tr>\n",
       "      <th>1</th>\n",
       "      <td>1723376</td>\n",
       "      <td>1314519</td>\n",
       "      <td>142</td>\n",
       "      <td>206</td>\n",
       "      <td>Null</td>\n",
       "      <td>60000.0</td>\n",
       "      <td>60000.0</td>\n",
       "      <td>2022-01-06</td>\n",
       "      <td>Null</td>\n",
       "      <td>0</td>\n",
       "      <td>4078</td>\n",
       "      <td>29</td>\n",
       "    </tr>\n",
       "    <tr>\n",
       "      <th>2</th>\n",
       "      <td>1723382</td>\n",
       "      <td>1489859</td>\n",
       "      <td>142</td>\n",
       "      <td>206</td>\n",
       "      <td>Null</td>\n",
       "      <td>60000.0</td>\n",
       "      <td>60000.0</td>\n",
       "      <td>2022-01-04</td>\n",
       "      <td>Null</td>\n",
       "      <td>0</td>\n",
       "      <td>8068</td>\n",
       "      <td>106</td>\n",
       "    </tr>\n",
       "    <tr>\n",
       "      <th>3</th>\n",
       "      <td>1723402</td>\n",
       "      <td>1489589</td>\n",
       "      <td>142</td>\n",
       "      <td>206</td>\n",
       "      <td>Null</td>\n",
       "      <td>60000.0</td>\n",
       "      <td>60000.0</td>\n",
       "      <td>2022-01-08</td>\n",
       "      <td>Null</td>\n",
       "      <td>0</td>\n",
       "      <td>11891</td>\n",
       "      <td>46</td>\n",
       "    </tr>\n",
       "    <tr>\n",
       "      <th>4</th>\n",
       "      <td>1723403</td>\n",
       "      <td>1464254</td>\n",
       "      <td>142</td>\n",
       "      <td>206</td>\n",
       "      <td>Null</td>\n",
       "      <td>60000.0</td>\n",
       "      <td>60000.0</td>\n",
       "      <td>2022-01-08</td>\n",
       "      <td>Null</td>\n",
       "      <td>0</td>\n",
       "      <td>11891</td>\n",
       "      <td>46</td>\n",
       "    </tr>\n",
       "  </tbody>\n",
       "</table>\n",
       "</div>"
      ],
      "text/plain": [
       "   Loan Identifier  Customer Identification  Loan Type Loan Source  \\\n",
       "0          1723375                  1314508        142         206   \n",
       "1          1723376                  1314519        142         206   \n",
       "2          1723382                  1489859        142         206   \n",
       "3          1723402                  1489589        142         206   \n",
       "4          1723403                  1464254        142         206   \n",
       "\n",
       "  Loan Related to  Principle Amount asked  Principle amount approved  \\\n",
       "0            Null                 60000.0                    60000.0   \n",
       "1            Null                 60000.0                    60000.0   \n",
       "2            Null                 60000.0                    60000.0   \n",
       "3            Null                 60000.0                    60000.0   \n",
       "4            Null                 60000.0                    60000.0   \n",
       "\n",
       "  disbursal date writtenoff date  NPA Flag Loan agent  Branch Code  \n",
       "0     2022-01-06            Null         0       4078           29  \n",
       "1     2022-01-06            Null         0       4078           29  \n",
       "2     2022-01-04            Null         0       8068          106  \n",
       "3     2022-01-08            Null         0      11891           46  \n",
       "4     2022-01-08            Null         0      11891           46  "
      ]
     },
     "execution_count": 3,
     "metadata": {},
     "output_type": "execute_result"
    }
   ],
   "source": [
    "df.head()"
   ]
  },
  {
   "cell_type": "code",
   "execution_count": 4,
   "id": "a61708b7",
   "metadata": {},
   "outputs": [
    {
     "data": {
      "text/html": [
       "<div>\n",
       "<style scoped>\n",
       "    .dataframe tbody tr th:only-of-type {\n",
       "        vertical-align: middle;\n",
       "    }\n",
       "\n",
       "    .dataframe tbody tr th {\n",
       "        vertical-align: top;\n",
       "    }\n",
       "\n",
       "    .dataframe thead th {\n",
       "        text-align: right;\n",
       "    }\n",
       "</style>\n",
       "<table border=\"1\" class=\"dataframe\">\n",
       "  <thead>\n",
       "    <tr style=\"text-align: right;\">\n",
       "      <th></th>\n",
       "      <th>Loan Identifier</th>\n",
       "      <th>Customer Identification</th>\n",
       "      <th>Loan Type</th>\n",
       "      <th>Principle Amount asked</th>\n",
       "      <th>Principle amount approved</th>\n",
       "      <th>NPA Flag</th>\n",
       "      <th>Branch Code</th>\n",
       "    </tr>\n",
       "  </thead>\n",
       "  <tbody>\n",
       "    <tr>\n",
       "      <th>count</th>\n",
       "      <td>2.313020e+05</td>\n",
       "      <td>2.313020e+05</td>\n",
       "      <td>231302.000000</td>\n",
       "      <td>231302.000000</td>\n",
       "      <td>231302.000000</td>\n",
       "      <td>231302.000000</td>\n",
       "      <td>231302.000000</td>\n",
       "    </tr>\n",
       "    <tr>\n",
       "      <th>mean</th>\n",
       "      <td>2.043373e+06</td>\n",
       "      <td>1.709468e+06</td>\n",
       "      <td>121.588421</td>\n",
       "      <td>64415.860792</td>\n",
       "      <td>64415.817602</td>\n",
       "      <td>0.034820</td>\n",
       "      <td>145.515296</td>\n",
       "    </tr>\n",
       "    <tr>\n",
       "      <th>std</th>\n",
       "      <td>1.865899e+05</td>\n",
       "      <td>4.876818e+05</td>\n",
       "      <td>44.743101</td>\n",
       "      <td>14255.953085</td>\n",
       "      <td>14256.133078</td>\n",
       "      <td>0.183325</td>\n",
       "      <td>88.363996</td>\n",
       "    </tr>\n",
       "    <tr>\n",
       "      <th>min</th>\n",
       "      <td>1.723375e+06</td>\n",
       "      <td>4.049200e+04</td>\n",
       "      <td>5.000000</td>\n",
       "      <td>10.000000</td>\n",
       "      <td>10.000000</td>\n",
       "      <td>0.000000</td>\n",
       "      <td>2.000000</td>\n",
       "    </tr>\n",
       "    <tr>\n",
       "      <th>25%</th>\n",
       "      <td>1.897990e+06</td>\n",
       "      <td>1.420745e+06</td>\n",
       "      <td>71.000000</td>\n",
       "      <td>60000.000000</td>\n",
       "      <td>60000.000000</td>\n",
       "      <td>0.000000</td>\n",
       "      <td>76.000000</td>\n",
       "    </tr>\n",
       "    <tr>\n",
       "      <th>50%</th>\n",
       "      <td>2.040312e+06</td>\n",
       "      <td>1.695164e+06</td>\n",
       "      <td>142.000000</td>\n",
       "      <td>60000.000000</td>\n",
       "      <td>60000.000000</td>\n",
       "      <td>0.000000</td>\n",
       "      <td>124.000000</td>\n",
       "    </tr>\n",
       "    <tr>\n",
       "      <th>75%</th>\n",
       "      <td>2.198036e+06</td>\n",
       "      <td>2.107037e+06</td>\n",
       "      <td>158.000000</td>\n",
       "      <td>85000.000000</td>\n",
       "      <td>85000.000000</td>\n",
       "      <td>0.000000</td>\n",
       "      <td>218.000000</td>\n",
       "    </tr>\n",
       "    <tr>\n",
       "      <th>max</th>\n",
       "      <td>2.819632e+06</td>\n",
       "      <td>2.566808e+06</td>\n",
       "      <td>189.000000</td>\n",
       "      <td>200000.000000</td>\n",
       "      <td>200000.000000</td>\n",
       "      <td>1.000000</td>\n",
       "      <td>338.000000</td>\n",
       "    </tr>\n",
       "  </tbody>\n",
       "</table>\n",
       "</div>"
      ],
      "text/plain": [
       "       Loan Identifier  Customer Identification      Loan Type  \\\n",
       "count     2.313020e+05             2.313020e+05  231302.000000   \n",
       "mean      2.043373e+06             1.709468e+06     121.588421   \n",
       "std       1.865899e+05             4.876818e+05      44.743101   \n",
       "min       1.723375e+06             4.049200e+04       5.000000   \n",
       "25%       1.897990e+06             1.420745e+06      71.000000   \n",
       "50%       2.040312e+06             1.695164e+06     142.000000   \n",
       "75%       2.198036e+06             2.107037e+06     158.000000   \n",
       "max       2.819632e+06             2.566808e+06     189.000000   \n",
       "\n",
       "       Principle Amount asked  Principle amount approved       NPA Flag  \\\n",
       "count           231302.000000              231302.000000  231302.000000   \n",
       "mean             64415.860792               64415.817602       0.034820   \n",
       "std              14255.953085               14256.133078       0.183325   \n",
       "min                 10.000000                  10.000000       0.000000   \n",
       "25%              60000.000000               60000.000000       0.000000   \n",
       "50%              60000.000000               60000.000000       0.000000   \n",
       "75%              85000.000000               85000.000000       0.000000   \n",
       "max             200000.000000              200000.000000       1.000000   \n",
       "\n",
       "         Branch Code  \n",
       "count  231302.000000  \n",
       "mean      145.515296  \n",
       "std        88.363996  \n",
       "min         2.000000  \n",
       "25%        76.000000  \n",
       "50%       124.000000  \n",
       "75%       218.000000  \n",
       "max       338.000000  "
      ]
     },
     "execution_count": 4,
     "metadata": {},
     "output_type": "execute_result"
    }
   ],
   "source": [
    "df.describe()"
   ]
  },
  {
   "cell_type": "code",
   "execution_count": 5,
   "id": "29a4622b",
   "metadata": {},
   "outputs": [
    {
     "name": "stdout",
     "output_type": "stream",
     "text": [
      "<class 'pandas.core.frame.DataFrame'>\n",
      "RangeIndex: 231302 entries, 0 to 231301\n",
      "Data columns (total 12 columns):\n",
      " #   Column                     Non-Null Count   Dtype  \n",
      "---  ------                     --------------   -----  \n",
      " 0   Loan Identifier            231302 non-null  int64  \n",
      " 1   Customer Identification    231302 non-null  int64  \n",
      " 2   Loan Type                  231302 non-null  int64  \n",
      " 3   Loan Source                231302 non-null  object \n",
      " 4   Loan Related to            231302 non-null  object \n",
      " 5   Principle Amount asked     231302 non-null  float64\n",
      " 6   Principle amount approved  231302 non-null  float64\n",
      " 7   disbursal date             231302 non-null  object \n",
      " 8   writtenoff date            231302 non-null  object \n",
      " 9   NPA Flag                   231302 non-null  int64  \n",
      " 10  Loan agent                 231302 non-null  object \n",
      " 11  Branch Code                231302 non-null  int64  \n",
      "dtypes: float64(2), int64(5), object(5)\n",
      "memory usage: 21.2+ MB\n"
     ]
    }
   ],
   "source": [
    "df.info()"
   ]
  },
  {
   "cell_type": "code",
   "execution_count": 6,
   "id": "924417e6",
   "metadata": {},
   "outputs": [
    {
     "data": {
      "text/plain": [
       "Loan Identifier              0\n",
       "Customer Identification      0\n",
       "Loan Type                    0\n",
       "Loan Source                  0\n",
       "Loan Related to              0\n",
       "Principle Amount asked       0\n",
       "Principle amount approved    0\n",
       "disbursal date               0\n",
       "writtenoff date              0\n",
       "NPA Flag                     0\n",
       "Loan agent                   0\n",
       "Branch Code                  0\n",
       "dtype: int64"
      ]
     },
     "execution_count": 6,
     "metadata": {},
     "output_type": "execute_result"
    }
   ],
   "source": [
    "df.isnull().sum()"
   ]
  },
  {
   "cell_type": "code",
   "execution_count": 7,
   "id": "68ba514d",
   "metadata": {},
   "outputs": [
    {
     "data": {
      "text/plain": [
       "0"
      ]
     },
     "execution_count": 7,
     "metadata": {},
     "output_type": "execute_result"
    }
   ],
   "source": [
    "df.duplicated().sum()"
   ]
  },
  {
   "cell_type": "code",
   "execution_count": 8,
   "id": "fe5a382a",
   "metadata": {},
   "outputs": [],
   "source": [
    "def get_transaction_type(row):\n",
    "    if row['Loan Type']>=5 and row['Loan Type']<=50:\n",
    "        return \"Bussiness Loan\"\n",
    "    elif row['Loan Type']>=51 and row['Loan Type']<=100:\n",
    "        return \"Personal Loan\"\n",
    "    elif row['Loan Type']>=101 and row['Loan Type']<=150:\n",
    "        return \"Car Loan\"\n",
    "    elif row['Loan Type']>=151 and row['Loan Type']<=189:\n",
    "        return \"Home Loan\"\n",
    "    else:\n",
    "        return \"\"\n",
    "\n",
    "df['Type_of_Loan'] = df.apply(get_transaction_type, axis=1)\n"
   ]
  },
  {
   "cell_type": "code",
   "execution_count": 9,
   "id": "ae94fc68",
   "metadata": {},
   "outputs": [
    {
     "data": {
      "text/plain": [
       "array(['Car Loan', 'Bussiness Loan', 'Personal Loan', 'Home Loan'],\n",
       "      dtype=object)"
      ]
     },
     "execution_count": 9,
     "metadata": {},
     "output_type": "execute_result"
    }
   ],
   "source": [
    "df['Type_of_Loan'].unique()"
   ]
  },
  {
   "cell_type": "code",
   "execution_count": 10,
   "id": "4e4eab68",
   "metadata": {},
   "outputs": [
    {
     "data": {
      "text/plain": [
       "338"
      ]
     },
     "execution_count": 10,
     "metadata": {},
     "output_type": "execute_result"
    }
   ],
   "source": [
    "df['Branch Code'].max()"
   ]
  },
  {
   "cell_type": "code",
   "execution_count": 11,
   "id": "811e1089",
   "metadata": {},
   "outputs": [],
   "source": [
    "def get_State_Name(row):\n",
    "    if row['Branch Code']>=2 and row['Branch Code']<=50:\n",
    "        return \"Gujarat\"\n",
    "    elif row['Branch Code']>=51 and row['Branch Code']<=100:\n",
    "        return \"Maharastra\"\n",
    "    elif row['Branch Code']>=101 and row['Branch Code']<=150:\n",
    "        return \"Odisha\"\n",
    "    elif row['Branch Code']>=151 and row['Branch Code']<=200:\n",
    "        return \"Rajsthan\"\n",
    "    elif row['Branch Code']>=201 and row['Branch Code']<=250:\n",
    "        return \"U.P\"\n",
    "    elif row['Branch Code']>=251 and row['Branch Code']<=300:\n",
    "        return \"Delhi\"\n",
    "    elif row['Branch Code']>=300 and row['Branch Code']<=338:\n",
    "        return \"Goa\"\n",
    "    else:\n",
    "        return \"\"\n",
    "\n",
    "df['State'] = df.apply(get_State_Name, axis=1)"
   ]
  },
  {
   "cell_type": "code",
   "execution_count": 12,
   "id": "d9803514",
   "metadata": {},
   "outputs": [
    {
     "data": {
      "text/plain": [
       "array(['Gujarat', 'Odisha', 'Maharastra', 'Goa', 'U.P', 'Delhi',\n",
       "       'Rajsthan'], dtype=object)"
      ]
     },
     "execution_count": 12,
     "metadata": {},
     "output_type": "execute_result"
    }
   ],
   "source": [
    "df['State'].unique()"
   ]
  },
  {
   "cell_type": "code",
   "execution_count": 13,
   "id": "f6fd2090",
   "metadata": {},
   "outputs": [],
   "source": [
    "df['disbursal date']= pd.to_datetime(df['disbursal date'])"
   ]
  },
  {
   "cell_type": "code",
   "execution_count": 14,
   "id": "504b0219",
   "metadata": {},
   "outputs": [],
   "source": [
    "df.drop(['Loan Related to'], axis=1,inplace=True)"
   ]
  },
  {
   "cell_type": "code",
   "execution_count": 15,
   "id": "f13929b1",
   "metadata": {},
   "outputs": [
    {
     "data": {
      "text/plain": [
       "Loan Identifier              False\n",
       "Customer Identification      False\n",
       "Loan Type                    False\n",
       "Loan Source                  False\n",
       "Principle Amount asked       False\n",
       "Principle amount approved    False\n",
       "disbursal date               False\n",
       "writtenoff date              False\n",
       "NPA Flag                     False\n",
       "Loan agent                   False\n",
       "Branch Code                  False\n",
       "Type_of_Loan                 False\n",
       "State                        False\n",
       "dtype: bool"
      ]
     },
     "execution_count": 15,
     "metadata": {},
     "output_type": "execute_result"
    }
   ],
   "source": [
    "df.isnull().any()"
   ]
  },
  {
   "cell_type": "code",
   "execution_count": 16,
   "id": "84a63821",
   "metadata": {},
   "outputs": [],
   "source": [
    "df['Disbursal Year'] = df['disbursal date'].dt.year"
   ]
  },
  {
   "cell_type": "code",
   "execution_count": 17,
   "id": "bbad23c4",
   "metadata": {},
   "outputs": [
    {
     "data": {
      "text/plain": [
       "Branch Code\n",
       "237    235120068.0\n",
       "147    215999697.0\n",
       "76     202196589.0\n",
       "287    195143944.0\n",
       "41     190266978.0\n",
       "Name: Principle amount approved, dtype: float64"
      ]
     },
     "execution_count": 17,
     "metadata": {},
     "output_type": "execute_result"
    }
   ],
   "source": [
    "df.groupby('Branch Code')['Principle amount approved'].sum().nlargest(5)"
   ]
  },
  {
   "cell_type": "code",
   "execution_count": 18,
   "id": "6b63a64e",
   "metadata": {},
   "outputs": [
    {
     "data": {
      "text/plain": [
       "Branch Code\n",
       "237    3678\n",
       "147    3293\n",
       "76     3021\n",
       "287    2964\n",
       "41     2962\n",
       "Name: Loan Identifier, dtype: int64"
      ]
     },
     "execution_count": 18,
     "metadata": {},
     "output_type": "execute_result"
    }
   ],
   "source": [
    "df.groupby('Branch Code')['Loan Identifier'].count().nlargest(5)"
   ]
  },
  {
   "cell_type": "code",
   "execution_count": 19,
   "id": "91674f1d",
   "metadata": {},
   "outputs": [
    {
     "name": "stdout",
     "output_type": "stream",
     "text": [
      "             Number_of_Loans\n",
      "Branch Code                 \n",
      "62                   66385.0\n",
      "64                  103982.0\n",
      "69                  105495.0\n",
      "86                  129203.0\n",
      "81                  134322.0\n"
     ]
    }
   ],
   "source": [
    "loan_Sum = df.groupby('Branch Code').agg(Number_of_Loans=('Principle amount approved', 'sum'))\n",
    "smallest_loan_sum = loan_Sum.nsmallest(5, 'Number_of_Loans')\n",
    "print(smallest_loan_sum)"
   ]
  },
  {
   "cell_type": "code",
   "execution_count": 20,
   "id": "f7f25bbb",
   "metadata": {},
   "outputs": [
    {
     "name": "stdout",
     "output_type": "stream",
     "text": [
      "             Number_of_Loans\n",
      "Branch Code                 \n",
      "253                        3\n",
      "62                         4\n",
      "22                         5\n",
      "244                        5\n",
      "69                         6\n"
     ]
    }
   ],
   "source": [
    "                           \n",
    "loan_counts = df.groupby('Branch Code').agg(Number_of_Loans=('Loan Identifier', 'count'))\n",
    "smallest_loan_counts = loan_counts.nsmallest(5, 'Number_of_Loans')\n",
    "print(smallest_loan_counts)"
   ]
  },
  {
   "cell_type": "code",
   "execution_count": 21,
   "id": "1cc2cb63",
   "metadata": {},
   "outputs": [
    {
     "data": {
      "text/plain": [
       "231302"
      ]
     },
     "execution_count": 21,
     "metadata": {},
     "output_type": "execute_result"
    }
   ],
   "source": [
    "df['Loan Identifier'].count()"
   ]
  },
  {
   "cell_type": "code",
   "execution_count": 22,
   "id": "cc33ade7",
   "metadata": {},
   "outputs": [
    {
     "name": "stdout",
     "output_type": "stream",
     "text": [
      "<class 'pandas.core.frame.DataFrame'>\n",
      "RangeIndex: 231302 entries, 0 to 231301\n",
      "Data columns (total 14 columns):\n",
      " #   Column                     Non-Null Count   Dtype         \n",
      "---  ------                     --------------   -----         \n",
      " 0   Loan Identifier            231302 non-null  int64         \n",
      " 1   Customer Identification    231302 non-null  int64         \n",
      " 2   Loan Type                  231302 non-null  int64         \n",
      " 3   Loan Source                231302 non-null  object        \n",
      " 4   Principle Amount asked     231302 non-null  float64       \n",
      " 5   Principle amount approved  231302 non-null  float64       \n",
      " 6   disbursal date             231302 non-null  datetime64[ns]\n",
      " 7   writtenoff date            231302 non-null  object        \n",
      " 8   NPA Flag                   231302 non-null  int64         \n",
      " 9   Loan agent                 231302 non-null  object        \n",
      " 10  Branch Code                231302 non-null  int64         \n",
      " 11  Type_of_Loan               231302 non-null  object        \n",
      " 12  State                      231302 non-null  object        \n",
      " 13  Disbursal Year             231302 non-null  int32         \n",
      "dtypes: datetime64[ns](1), float64(2), int32(1), int64(5), object(5)\n",
      "memory usage: 23.8+ MB\n"
     ]
    }
   ],
   "source": [
    "df.info()"
   ]
  },
  {
   "cell_type": "code",
   "execution_count": 24,
   "id": "c2e2b1c3",
   "metadata": {},
   "outputs": [],
   "source": [
    "df2=pd.read_csv('C:\\\\Users\\\\Kishan\\\\Desktop\\\\Project\\\\mlrs_2022.csv')"
   ]
  },
  {
   "cell_type": "code",
   "execution_count": 25,
   "id": "94230928",
   "metadata": {},
   "outputs": [],
   "source": [
    "df2[\"Loan Identifier\"] = df2[\"Loan Identifier\"].str.replace('[^0-9]', '', regex=True).str.strip()\n",
    "\n",
    "# Step 2: Convert the column to integers\n",
    "df2[\"Loan Identifier\"] = df2[\"Loan Identifier\"].astype(int)"
   ]
  },
  {
   "cell_type": "code",
   "execution_count": 26,
   "id": "f945025d",
   "metadata": {},
   "outputs": [],
   "source": [
    "df2[\"Repayment start date\"] = df2[\"Repayment start date\"].str.replace('\"', '').str.strip()\n",
    "\n",
    "# Step 2: Convert the column to datetime\n",
    "df2[\"Repayment start date\"] = pd.to_datetime(df2[\"Repayment start date\"])"
   ]
  },
  {
   "cell_type": "code",
   "execution_count": 27,
   "id": "e5b8c8ad",
   "metadata": {},
   "outputs": [],
   "source": [
    "df2.replace('Null', np.nan, inplace=True)\n",
    "\n",
    "# Convert Loan Principal Amount to float\n",
    "df2[\"Loan Principal Amount\"] = df2[\"Loan Principal Amount\"].str.replace('\"','').str.strip().astype(float)\n",
    "\n",
    "# Convert Interest Amount to float\n",
    "df2[\"Interest Amount\"] = df2[\"Interest Amount\"].str.replace('\"','').str.strip().astype(float)"
   ]
  },
  {
   "cell_type": "code",
   "execution_count": 28,
   "id": "fe194d88",
   "metadata": {},
   "outputs": [],
   "source": [
    "#df['Date on which EMI was cleared'] = pd.to_datetime(df['Date on which EMI was cleared'])\n",
    "df2[\"Date on which EMI was cleared\"] = df2[\"Date on which EMI was cleared\"].str.replace('\"','').fillna('').str.strip()\n",
    "df2[\"Date on which EMI was cleared\"] = pd.to_datetime(df2[\"Date on which EMI was cleared\"])\n"
   ]
  },
  {
   "cell_type": "code",
   "execution_count": 31,
   "id": "1d82ad41",
   "metadata": {},
   "outputs": [
    {
     "data": {
      "text/plain": [
       "671354"
      ]
     },
     "execution_count": 31,
     "metadata": {},
     "output_type": "execute_result"
    }
   ],
   "source": [
    "df2['Date on which EMI was cleared'].isnull().sum()"
   ]
  },
  {
   "cell_type": "code",
   "execution_count": 33,
   "id": "341bfa1b",
   "metadata": {},
   "outputs": [
    {
     "name": "stdout",
     "output_type": "stream",
     "text": [
      "<class 'pandas.core.frame.DataFrame'>\n",
      "RangeIndex: 1048575 entries, 0 to 1048574\n",
      "Data columns (total 8 columns):\n",
      " #   Column                         Non-Null Count    Dtype         \n",
      "---  ------                         --------------    -----         \n",
      " 0   Loan Identifier                1048575 non-null  int32         \n",
      " 1   Repayment start date           1048575 non-null  datetime64[ns]\n",
      " 2   Loan Principal Amount          1032141 non-null  float64       \n",
      " 3   Interest Amount                1031928 non-null  float64       \n",
      " 4   Fee charge                     0 non-null        float64       \n",
      " 5   Penalty Charge                 0 non-null        float64       \n",
      " 6   Advance Payment                0 non-null        float64       \n",
      " 7   Date on which EMI was cleared  377221 non-null   datetime64[ns]\n",
      "dtypes: datetime64[ns](2), float64(5), int32(1)\n",
      "memory usage: 60.0 MB\n"
     ]
    }
   ],
   "source": [
    "df2.info()"
   ]
  },
  {
   "cell_type": "code",
   "execution_count": 34,
   "id": "dbfac221",
   "metadata": {},
   "outputs": [
    {
     "name": "stdout",
     "output_type": "stream",
     "text": [
      "        Loan Identifier  Customer Identification  Loan Type Loan Source  \\\n",
      "0               1723375                  1314508        142         206   \n",
      "1               1723376                  1314519        142         206   \n",
      "2               1723382                  1489859        142         206   \n",
      "3               1723402                  1489589        142         206   \n",
      "4               1723403                  1464254        142         206   \n",
      "...                 ...                      ...        ...         ...   \n",
      "231297          2385098                  2049854          5         245   \n",
      "231298          2385136                  1891365          5         236   \n",
      "231299          2385137                  1589906          5         218   \n",
      "231300          2723852                  2219084         89        Null   \n",
      "231301          2819632                  2483140         70        Null   \n",
      "\n",
      "        Principle Amount asked  Principle amount approved disbursal date  \\\n",
      "0                      60000.0                    60000.0     2022-01-06   \n",
      "1                      60000.0                    60000.0     2022-01-06   \n",
      "2                      60000.0                    60000.0     2022-01-04   \n",
      "3                      60000.0                    60000.0     2022-01-08   \n",
      "4                      60000.0                    60000.0     2022-01-08   \n",
      "...                        ...                        ...            ...   \n",
      "231297                 51890.0                    51890.0     2022-12-31   \n",
      "231298                 52569.0                    52569.0     2022-12-31   \n",
      "231299                 40482.0                    40482.0     2022-12-31   \n",
      "231300                 42000.0                    42000.0     2022-12-07   \n",
      "231301                 50000.0                    50000.0     2022-12-22   \n",
      "\n",
      "       writtenoff date  NPA Flag Loan agent  Branch Code    Type_of_Loan  \\\n",
      "0                 Null         0       4078           29        Car Loan   \n",
      "1                 Null         0       4078           29        Car Loan   \n",
      "2                 Null         0       8068          106        Car Loan   \n",
      "3                 Null         0      11891           46        Car Loan   \n",
      "4                 Null         0      11891           46        Car Loan   \n",
      "...                ...       ...        ...          ...             ...   \n",
      "231297            Null         0      11012          121  Bussiness Loan   \n",
      "231298            Null         0      13323           66  Bussiness Loan   \n",
      "231299            Null         0      13197          277  Bussiness Loan   \n",
      "231300            Null         0       6651            8   Personal Loan   \n",
      "231301            Null         0       6651            8   Personal Loan   \n",
      "\n",
      "             State  total_approved_amount  total_interest_amount  \n",
      "0          Gujarat                  60000                  13325  \n",
      "1          Gujarat                  60000                  13325  \n",
      "2           Odisha                  60000                  12806  \n",
      "3          Gujarat                  60000                  12854  \n",
      "4          Gujarat                  60000                  12854  \n",
      "...            ...                    ...                    ...  \n",
      "231297      Odisha                      0                      0  \n",
      "231298  Maharastra                      0                      0  \n",
      "231299       Delhi                      0                      0  \n",
      "231300     Gujarat                      0                      0  \n",
      "231301     Gujarat                      0                      0  \n",
      "\n",
      "[231302 rows x 15 columns]\n"
     ]
    }
   ],
   "source": [
    "merged = pd.merge(df, df2, on='Loan Identifier', how='left')\n",
    "\n",
    "grouped = merged.groupby(\n",
    "    ['Loan Identifier', 'Customer Identification', 'Loan Type', 'Loan Source', 'Principle Amount asked', 'Principle amount approved', 'disbursal date', 'writtenoff date', 'NPA Flag', 'Loan agent', 'Branch Code','Type_of_Loan','State'],\n",
    "    as_index=False\n",
    ").agg({'Loan Principal Amount': 'sum', 'Interest Amount': 'sum'})\n",
    "\n",
    "grouped['Loan Principal Amount'] = grouped['Loan Principal Amount'].fillna(0).astype(int)\n",
    "grouped['Interest Amount'] = grouped['Interest Amount'].fillna(0).astype(int)\n",
    "\n",
    "grouped = grouped.rename(columns={'Loan Principal Amount': 'total_approved_amount', 'Interest Amount': 'total_interest_amount'})\n",
    "\n",
    "# Sort the result by Loan Identifier\n",
    "grouped = grouped.sort_values(by='Loan Identifier')\n",
    "\n",
    "print(grouped)"
   ]
  },
  {
   "cell_type": "code",
   "execution_count": 35,
   "id": "adcd44d6",
   "metadata": {},
   "outputs": [],
   "source": [
    "grouped['Total_Payment_Collected'] = grouped['total_approved_amount'] + grouped['total_interest_amount']"
   ]
  },
  {
   "cell_type": "code",
   "execution_count": 36,
   "id": "7c59d53d",
   "metadata": {},
   "outputs": [
    {
     "data": {
      "text/plain": [
       "979299612"
      ]
     },
     "execution_count": 36,
     "metadata": {},
     "output_type": "execute_result"
    }
   ],
   "source": [
    "grouped['Total_Payment_Collected'].sum()"
   ]
  },
  {
   "cell_type": "code",
   "execution_count": 37,
   "id": "adbb9e0a",
   "metadata": {},
   "outputs": [
    {
     "data": {
      "text/plain": [
       "186343056"
      ]
     },
     "execution_count": 37,
     "metadata": {},
     "output_type": "execute_result"
    }
   ],
   "source": [
    "grouped['total_interest_amount'].sum()"
   ]
  },
  {
   "cell_type": "code",
   "execution_count": 81,
   "id": "20da8238",
   "metadata": {},
   "outputs": [
    {
     "data": {
      "text/plain": [
       "0.0"
      ]
     },
     "execution_count": 81,
     "metadata": {},
     "output_type": "execute_result"
    }
   ],
   "source": [
    "df2['Advance Payment'].sum()"
   ]
  },
  {
   "cell_type": "code",
   "execution_count": 38,
   "id": "f81cd0ce",
   "metadata": {},
   "outputs": [
    {
     "data": {
      "text/plain": [
       "Branch Code\n",
       "219    19100935\n",
       "147    17926788\n",
       "142    16439468\n",
       "100    14735700\n",
       "237    14106296\n",
       "Name: Total_Payment_Collected, dtype: int32"
      ]
     },
     "execution_count": 38,
     "metadata": {},
     "output_type": "execute_result"
    }
   ],
   "source": [
    "grouped.groupby('Branch Code')['Total_Payment_Collected'].sum().nlargest(5)"
   ]
  },
  {
   "cell_type": "code",
   "execution_count": 39,
   "id": "d6cccb29",
   "metadata": {},
   "outputs": [
    {
     "name": "stdout",
     "output_type": "stream",
     "text": [
      "<class 'pandas.core.frame.DataFrame'>\n",
      "RangeIndex: 231302 entries, 0 to 231301\n",
      "Data columns (total 14 columns):\n",
      " #   Column                     Non-Null Count   Dtype         \n",
      "---  ------                     --------------   -----         \n",
      " 0   Loan Identifier            231302 non-null  int64         \n",
      " 1   Customer Identification    231302 non-null  int64         \n",
      " 2   Loan Type                  231302 non-null  int64         \n",
      " 3   Loan Source                231302 non-null  object        \n",
      " 4   Principle Amount asked     231302 non-null  float64       \n",
      " 5   Principle amount approved  231302 non-null  float64       \n",
      " 6   disbursal date             231302 non-null  datetime64[ns]\n",
      " 7   writtenoff date            231302 non-null  object        \n",
      " 8   NPA Flag                   231302 non-null  int64         \n",
      " 9   Loan agent                 231302 non-null  object        \n",
      " 10  Branch Code                231302 non-null  int64         \n",
      " 11  Type_of_Loan               231302 non-null  object        \n",
      " 12  State                      231302 non-null  object        \n",
      " 13  Disbursal Year             231302 non-null  int32         \n",
      "dtypes: datetime64[ns](1), float64(2), int32(1), int64(5), object(5)\n",
      "memory usage: 23.8+ MB\n"
     ]
    }
   ],
   "source": [
    "df.info()"
   ]
  },
  {
   "cell_type": "code",
   "execution_count": 40,
   "id": "54a32078",
   "metadata": {
    "scrolled": true
   },
   "outputs": [
    {
     "data": {
      "text/html": [
       "<div>\n",
       "<style scoped>\n",
       "    .dataframe tbody tr th:only-of-type {\n",
       "        vertical-align: middle;\n",
       "    }\n",
       "\n",
       "    .dataframe tbody tr th {\n",
       "        vertical-align: top;\n",
       "    }\n",
       "\n",
       "    .dataframe thead th {\n",
       "        text-align: right;\n",
       "    }\n",
       "</style>\n",
       "<table border=\"1\" class=\"dataframe\">\n",
       "  <thead>\n",
       "    <tr style=\"text-align: right;\">\n",
       "      <th></th>\n",
       "      <th>Loan Identifier</th>\n",
       "      <th>Repayment start date</th>\n",
       "      <th>Loan Principal Amount</th>\n",
       "      <th>Interest Amount</th>\n",
       "      <th>Fee charge</th>\n",
       "      <th>Penalty Charge</th>\n",
       "      <th>Advance Payment</th>\n",
       "      <th>Date on which EMI was cleared</th>\n",
       "    </tr>\n",
       "  </thead>\n",
       "  <tbody>\n",
       "    <tr>\n",
       "      <th>0</th>\n",
       "      <td>1723378</td>\n",
       "      <td>2022-01-08</td>\n",
       "      <td>2031.0</td>\n",
       "      <td>1069.0</td>\n",
       "      <td>NaN</td>\n",
       "      <td>NaN</td>\n",
       "      <td>NaN</td>\n",
       "      <td>NaT</td>\n",
       "    </tr>\n",
       "    <tr>\n",
       "      <th>1</th>\n",
       "      <td>1723378</td>\n",
       "      <td>2022-02-10</td>\n",
       "      <td>2224.0</td>\n",
       "      <td>876.0</td>\n",
       "      <td>NaN</td>\n",
       "      <td>NaN</td>\n",
       "      <td>NaN</td>\n",
       "      <td>NaT</td>\n",
       "    </tr>\n",
       "    <tr>\n",
       "      <th>2</th>\n",
       "      <td>1723378</td>\n",
       "      <td>2022-03-10</td>\n",
       "      <td>2167.0</td>\n",
       "      <td>933.0</td>\n",
       "      <td>NaN</td>\n",
       "      <td>NaN</td>\n",
       "      <td>NaN</td>\n",
       "      <td>NaT</td>\n",
       "    </tr>\n",
       "    <tr>\n",
       "      <th>3</th>\n",
       "      <td>1723378</td>\n",
       "      <td>2022-04-10</td>\n",
       "      <td>2232.0</td>\n",
       "      <td>868.0</td>\n",
       "      <td>NaN</td>\n",
       "      <td>NaN</td>\n",
       "      <td>NaN</td>\n",
       "      <td>NaT</td>\n",
       "    </tr>\n",
       "    <tr>\n",
       "      <th>4</th>\n",
       "      <td>1723378</td>\n",
       "      <td>2022-05-10</td>\n",
       "      <td>2241.0</td>\n",
       "      <td>859.0</td>\n",
       "      <td>NaN</td>\n",
       "      <td>NaN</td>\n",
       "      <td>NaN</td>\n",
       "      <td>NaT</td>\n",
       "    </tr>\n",
       "    <tr>\n",
       "      <th>...</th>\n",
       "      <td>...</td>\n",
       "      <td>...</td>\n",
       "      <td>...</td>\n",
       "      <td>...</td>\n",
       "      <td>...</td>\n",
       "      <td>...</td>\n",
       "      <td>...</td>\n",
       "      <td>...</td>\n",
       "    </tr>\n",
       "    <tr>\n",
       "      <th>1048570</th>\n",
       "      <td>1768226</td>\n",
       "      <td>2023-11-05</td>\n",
       "      <td>2979.0</td>\n",
       "      <td>121.0</td>\n",
       "      <td>NaN</td>\n",
       "      <td>NaN</td>\n",
       "      <td>NaN</td>\n",
       "      <td>NaT</td>\n",
       "    </tr>\n",
       "    <tr>\n",
       "      <th>1048571</th>\n",
       "      <td>1768226</td>\n",
       "      <td>2023-12-05</td>\n",
       "      <td>3025.0</td>\n",
       "      <td>75.0</td>\n",
       "      <td>NaN</td>\n",
       "      <td>NaN</td>\n",
       "      <td>NaN</td>\n",
       "      <td>NaT</td>\n",
       "    </tr>\n",
       "    <tr>\n",
       "      <th>1048572</th>\n",
       "      <td>1768226</td>\n",
       "      <td>2024-01-05</td>\n",
       "      <td>1452.0</td>\n",
       "      <td>24.0</td>\n",
       "      <td>NaN</td>\n",
       "      <td>NaN</td>\n",
       "      <td>NaN</td>\n",
       "      <td>NaT</td>\n",
       "    </tr>\n",
       "    <tr>\n",
       "      <th>1048573</th>\n",
       "      <td>1768227</td>\n",
       "      <td>2022-02-04</td>\n",
       "      <td>2161.0</td>\n",
       "      <td>939.0</td>\n",
       "      <td>NaN</td>\n",
       "      <td>NaN</td>\n",
       "      <td>NaN</td>\n",
       "      <td>NaT</td>\n",
       "    </tr>\n",
       "    <tr>\n",
       "      <th>1048574</th>\n",
       "      <td>1768227</td>\n",
       "      <td>2022-03-05</td>\n",
       "      <td>2132.0</td>\n",
       "      <td>968.0</td>\n",
       "      <td>NaN</td>\n",
       "      <td>NaN</td>\n",
       "      <td>NaN</td>\n",
       "      <td>NaT</td>\n",
       "    </tr>\n",
       "  </tbody>\n",
       "</table>\n",
       "<p>1048575 rows × 8 columns</p>\n",
       "</div>"
      ],
      "text/plain": [
       "         Loan Identifier Repayment start date  Loan Principal Amount  \\\n",
       "0                1723378           2022-01-08                 2031.0   \n",
       "1                1723378           2022-02-10                 2224.0   \n",
       "2                1723378           2022-03-10                 2167.0   \n",
       "3                1723378           2022-04-10                 2232.0   \n",
       "4                1723378           2022-05-10                 2241.0   \n",
       "...                  ...                  ...                    ...   \n",
       "1048570          1768226           2023-11-05                 2979.0   \n",
       "1048571          1768226           2023-12-05                 3025.0   \n",
       "1048572          1768226           2024-01-05                 1452.0   \n",
       "1048573          1768227           2022-02-04                 2161.0   \n",
       "1048574          1768227           2022-03-05                 2132.0   \n",
       "\n",
       "         Interest Amount  Fee charge  Penalty Charge  Advance Payment  \\\n",
       "0                 1069.0         NaN             NaN              NaN   \n",
       "1                  876.0         NaN             NaN              NaN   \n",
       "2                  933.0         NaN             NaN              NaN   \n",
       "3                  868.0         NaN             NaN              NaN   \n",
       "4                  859.0         NaN             NaN              NaN   \n",
       "...                  ...         ...             ...              ...   \n",
       "1048570            121.0         NaN             NaN              NaN   \n",
       "1048571             75.0         NaN             NaN              NaN   \n",
       "1048572             24.0         NaN             NaN              NaN   \n",
       "1048573            939.0         NaN             NaN              NaN   \n",
       "1048574            968.0         NaN             NaN              NaN   \n",
       "\n",
       "        Date on which EMI was cleared  \n",
       "0                                 NaT  \n",
       "1                                 NaT  \n",
       "2                                 NaT  \n",
       "3                                 NaT  \n",
       "4                                 NaT  \n",
       "...                               ...  \n",
       "1048570                           NaT  \n",
       "1048571                           NaT  \n",
       "1048572                           NaT  \n",
       "1048573                           NaT  \n",
       "1048574                           NaT  \n",
       "\n",
       "[1048575 rows x 8 columns]"
      ]
     },
     "execution_count": 40,
     "metadata": {},
     "output_type": "execute_result"
    }
   ],
   "source": [
    "df2"
   ]
  },
  {
   "cell_type": "code",
   "execution_count": 42,
   "id": "fa9f0ce7",
   "metadata": {},
   "outputs": [
    {
     "name": "stdout",
     "output_type": "stream",
     "text": [
      "<class 'pandas.core.frame.DataFrame'>\n",
      "RangeIndex: 231302 entries, 0 to 231301\n",
      "Data columns (total 14 columns):\n",
      " #   Column                     Non-Null Count   Dtype         \n",
      "---  ------                     --------------   -----         \n",
      " 0   Loan Identifier            231302 non-null  int64         \n",
      " 1   Customer Identification    231302 non-null  int64         \n",
      " 2   Loan Type                  231302 non-null  int64         \n",
      " 3   Loan Source                231302 non-null  object        \n",
      " 4   Principle Amount asked     231302 non-null  float64       \n",
      " 5   Principle amount approved  231302 non-null  float64       \n",
      " 6   disbursal date             231302 non-null  datetime64[ns]\n",
      " 7   writtenoff date            231302 non-null  object        \n",
      " 8   NPA Flag                   231302 non-null  int64         \n",
      " 9   Loan agent                 231302 non-null  object        \n",
      " 10  Branch Code                231302 non-null  int64         \n",
      " 11  Type_of_Loan               231302 non-null  object        \n",
      " 12  State                      231302 non-null  object        \n",
      " 13  Disbursal Year             231302 non-null  int32         \n",
      "dtypes: datetime64[ns](1), float64(2), int32(1), int64(5), object(5)\n",
      "memory usage: 23.8+ MB\n"
     ]
    }
   ],
   "source": [
    "df.info()"
   ]
  },
  {
   "cell_type": "code",
   "execution_count": 64,
   "id": "984bba35",
   "metadata": {},
   "outputs": [],
   "source": [
    "df['writtenoff date'] = df['writtenoff date'].where(df['writtenoff date'] != 'Null', '')"
   ]
  },
  {
   "cell_type": "code",
   "execution_count": 104,
   "id": "918d7618",
   "metadata": {},
   "outputs": [
    {
     "data": {
      "text/plain": [
       "3061"
      ]
     },
     "execution_count": 104,
     "metadata": {},
     "output_type": "execute_result"
    }
   ],
   "source": [
    "df['writtenoff date'].count()"
   ]
  },
  {
   "cell_type": "code",
   "execution_count": 84,
   "id": "da3b0953",
   "metadata": {},
   "outputs": [
    {
     "data": {
      "text/plain": [
       "writtenoff date\n",
       "2024-03-04    2689\n",
       "2023-03-31     305\n",
       "2022-09-27      67\n",
       "Name: count, dtype: int64"
      ]
     },
     "execution_count": 84,
     "metadata": {},
     "output_type": "execute_result"
    }
   ],
   "source": [
    "df['writtenoff date'].value_counts()"
   ]
  },
  {
   "cell_type": "code",
   "execution_count": 67,
   "id": "54cfb861",
   "metadata": {},
   "outputs": [],
   "source": [
    "df[\"writtenoff date\"] = pd.to_datetime(df[\"writtenoff date\"])"
   ]
  },
  {
   "cell_type": "code",
   "execution_count": 68,
   "id": "fb24fa59",
   "metadata": {},
   "outputs": [],
   "source": [
    "df[\"writtenoff date\"] = pd.to_datetime(df[\"writtenoff date\"], format=\"%Y-%m-%d\")"
   ]
  },
  {
   "cell_type": "code",
   "execution_count": 69,
   "id": "35555b91",
   "metadata": {},
   "outputs": [
    {
     "data": {
      "text/plain": [
       "228241"
      ]
     },
     "execution_count": 69,
     "metadata": {},
     "output_type": "execute_result"
    }
   ],
   "source": [
    "df[\"writtenoff date\"].isnull().sum()"
   ]
  },
  {
   "cell_type": "code",
   "execution_count": 70,
   "id": "6d62b1ed",
   "metadata": {},
   "outputs": [],
   "source": [
    "df[\"writtenoff date\"] = pd.to_datetime(df[\"writtenoff date\"], format=\"%Y-%m-%d\")  # Assuming YYYY-MM-DD format\n"
   ]
  },
  {
   "cell_type": "code",
   "execution_count": 73,
   "id": "8fedf092",
   "metadata": {},
   "outputs": [],
   "source": [
    "df[\"Disbursal Year\"] = pd.to_datetime(df[\"Disbursal Year\"])"
   ]
  },
  {
   "cell_type": "code",
   "execution_count": 74,
   "id": "94069793",
   "metadata": {},
   "outputs": [
    {
     "name": "stdout",
     "output_type": "stream",
     "text": [
      "<class 'pandas.core.frame.DataFrame'>\n",
      "RangeIndex: 231302 entries, 0 to 231301\n",
      "Data columns (total 14 columns):\n",
      " #   Column                     Non-Null Count   Dtype         \n",
      "---  ------                     --------------   -----         \n",
      " 0   Loan Identifier            231302 non-null  int64         \n",
      " 1   Customer Identification    231302 non-null  int64         \n",
      " 2   Loan Type                  231302 non-null  int64         \n",
      " 3   Loan Source                231302 non-null  object        \n",
      " 4   Principle Amount asked     231302 non-null  float64       \n",
      " 5   Principle amount approved  231302 non-null  float64       \n",
      " 6   disbursal date             231302 non-null  datetime64[ns]\n",
      " 7   writtenoff date            3061 non-null    datetime64[ns]\n",
      " 8   NPA Flag                   231302 non-null  int64         \n",
      " 9   Loan agent                 231302 non-null  object        \n",
      " 10  Branch Code                231302 non-null  int64         \n",
      " 11  Type_of_Loan               231302 non-null  object        \n",
      " 12  State                      231302 non-null  object        \n",
      " 13  Disbursal Year             231302 non-null  datetime64[ns]\n",
      "dtypes: datetime64[ns](3), float64(2), int64(5), object(4)\n",
      "memory usage: 24.7+ MB\n"
     ]
    }
   ],
   "source": [
    "df.info()"
   ]
  },
  {
   "cell_type": "code",
   "execution_count": 86,
   "id": "50d873e8",
   "metadata": {},
   "outputs": [],
   "source": [
    "df.replace('Null', np.nan, inplace=True)"
   ]
  },
  {
   "cell_type": "code",
   "execution_count": 87,
   "id": "aef0929b",
   "metadata": {},
   "outputs": [],
   "source": [
    "df['Loan Source'] = df['Loan Source'].fillna(0).astype(int)"
   ]
  },
  {
   "cell_type": "code",
   "execution_count": 99,
   "id": "a3339356",
   "metadata": {},
   "outputs": [],
   "source": [
    "df =df.drop('Source_Name', axis=1)"
   ]
  },
  {
   "cell_type": "code",
   "execution_count": 92,
   "id": "2336a915",
   "metadata": {},
   "outputs": [
    {
     "name": "stdout",
     "output_type": "stream",
     "text": [
      "<class 'pandas.core.frame.DataFrame'>\n",
      "RangeIndex: 231302 entries, 0 to 231301\n",
      "Data columns (total 13 columns):\n",
      " #   Column                     Non-Null Count   Dtype         \n",
      "---  ------                     --------------   -----         \n",
      " 0   Loan Identifier            231302 non-null  int64         \n",
      " 1   Customer Identification    231302 non-null  int64         \n",
      " 2   Loan Type                  231302 non-null  int64         \n",
      " 3   Loan Source                231302 non-null  int32         \n",
      " 4   Principle Amount asked     231302 non-null  float64       \n",
      " 5   Principle amount approved  231302 non-null  float64       \n",
      " 6   disbursal date             231302 non-null  datetime64[ns]\n",
      " 7   writtenoff date            3061 non-null    datetime64[ns]\n",
      " 8   NPA Flag                   231302 non-null  int64         \n",
      " 9   Loan agent                 231271 non-null  object        \n",
      " 10  Branch Code                231302 non-null  int64         \n",
      " 11  Type_of_Loan               231302 non-null  object        \n",
      " 12  State                      231302 non-null  object        \n",
      "dtypes: datetime64[ns](2), float64(2), int32(1), int64(5), object(3)\n",
      "memory usage: 22.1+ MB\n"
     ]
    }
   ],
   "source": [
    "df.info('Disbursal Year')"
   ]
  },
  {
   "cell_type": "code",
   "execution_count": 100,
   "id": "a81769a1",
   "metadata": {},
   "outputs": [],
   "source": [
    "def get_Source_Name(row):\n",
    "    if row['Loan Source']>=0 and row['Loan Source']<1:\n",
    "        return \"Unknown\"\n",
    "    elif row['Loan Source']>=1 and row['Loan Source']<=70:\n",
    "        return \"Internal\"\n",
    "    elif row['Loan Source']>=71 and row['Loan Source']<=140:\n",
    "        return \"External\"\n",
    "    elif row['Loan Source']>=141 and row['Loan Source']<=210:\n",
    "        return \"Government_Source\"\n",
    "    elif row['Loan Source']>=211 and row['Loan Source']<=280:\n",
    "        return \"Specialized_Funding\"\n",
    "    elif row['Loan Source']>=281 and row['Loan Source']<=350:\n",
    "        return \"NBFC\"\n",
    "    else:\n",
    "        return \"\"\n",
    "\n",
    "df['Source_Name'] = df.apply(get_Source_Name, axis=1)"
   ]
  },
  {
   "cell_type": "code",
   "execution_count": 101,
   "id": "0a4cf774",
   "metadata": {},
   "outputs": [
    {
     "data": {
      "text/plain": [
       "Source_Name\n",
       "Specialized_Funding    137293\n",
       "NBFC                    48745\n",
       "Government_Source       30841\n",
       "Internal                11210\n",
       "Unknown                  2264\n",
       "External                  949\n",
       "Name: count, dtype: int64"
      ]
     },
     "execution_count": 101,
     "metadata": {},
     "output_type": "execute_result"
    }
   ],
   "source": [
    "df['Source_Name'].value_counts()"
   ]
  },
  {
   "cell_type": "code",
   "execution_count": 97,
   "id": "1cc837b8",
   "metadata": {},
   "outputs": [
    {
     "name": "stdout",
     "output_type": "stream",
     "text": [
      "<class 'pandas.core.frame.DataFrame'>\n",
      "RangeIndex: 231302 entries, 0 to 231301\n",
      "Data columns (total 14 columns):\n",
      " #   Column                     Non-Null Count   Dtype         \n",
      "---  ------                     --------------   -----         \n",
      " 0   Loan Identifier            231302 non-null  int64         \n",
      " 1   Customer Identification    231302 non-null  int64         \n",
      " 2   Loan Type                  231302 non-null  int64         \n",
      " 3   Loan Source                231302 non-null  int32         \n",
      " 4   Principle Amount asked     231302 non-null  float64       \n",
      " 5   Principle amount approved  231302 non-null  float64       \n",
      " 6   disbursal date             231302 non-null  datetime64[ns]\n",
      " 7   writtenoff date            3061 non-null    datetime64[ns]\n",
      " 8   NPA Flag                   231302 non-null  int64         \n",
      " 9   Loan agent                 231271 non-null  object        \n",
      " 10  Branch Code                231302 non-null  int64         \n",
      " 11  Type_of_Loan               231302 non-null  object        \n",
      " 12  State                      231302 non-null  object        \n",
      " 13  Source_Name                231302 non-null  object        \n",
      "dtypes: datetime64[ns](2), float64(2), int32(1), int64(5), object(4)\n",
      "memory usage: 23.8+ MB\n"
     ]
    }
   ],
   "source": [
    "df.info()"
   ]
  },
  {
   "cell_type": "code",
   "execution_count": 93,
   "id": "2fcf1e55",
   "metadata": {},
   "outputs": [
    {
     "name": "stdout",
     "output_type": "stream",
     "text": [
      "<class 'pandas.core.frame.DataFrame'>\n",
      "RangeIndex: 231302 entries, 0 to 231301\n",
      "Data columns (total 13 columns):\n",
      " #   Column                     Non-Null Count   Dtype         \n",
      "---  ------                     --------------   -----         \n",
      " 0   Loan Identifier            231302 non-null  int64         \n",
      " 1   Customer Identification    231302 non-null  int64         \n",
      " 2   Loan Type                  231302 non-null  int64         \n",
      " 3   Loan Source                231302 non-null  int32         \n",
      " 4   Principle Amount asked     231302 non-null  float64       \n",
      " 5   Principle amount approved  231302 non-null  float64       \n",
      " 6   disbursal date             231302 non-null  datetime64[ns]\n",
      " 7   writtenoff date            3061 non-null    datetime64[ns]\n",
      " 8   NPA Flag                   231302 non-null  int64         \n",
      " 9   Loan agent                 231271 non-null  object        \n",
      " 10  Branch Code                231302 non-null  int64         \n",
      " 11  Type_of_Loan               231302 non-null  object        \n",
      " 12  State                      231302 non-null  object        \n",
      "dtypes: datetime64[ns](2), float64(2), int32(1), int64(5), object(3)\n",
      "memory usage: 22.1+ MB\n"
     ]
    }
   ],
   "source": [
    "df.info()"
   ]
  },
  {
   "cell_type": "code",
   "execution_count": 78,
   "id": "0ae1be8f",
   "metadata": {},
   "outputs": [
    {
     "data": {
      "text/plain": [
       "False"
      ]
     },
     "execution_count": 78,
     "metadata": {},
     "output_type": "execute_result"
    }
   ],
   "source": [
    "df['Customer Identification'].is_unique"
   ]
  },
  {
   "cell_type": "code",
   "execution_count": null,
   "id": "5f14ef47",
   "metadata": {},
   "outputs": [],
   "source": [
    "df2.info()"
   ]
  },
  {
   "cell_type": "code",
   "execution_count": 105,
   "id": "9491e650",
   "metadata": {},
   "outputs": [],
   "source": [
    "df2.to_csv('Final3.csv', index=False)"
   ]
  },
  {
   "cell_type": "code",
   "execution_count": 102,
   "id": "52589c90",
   "metadata": {},
   "outputs": [],
   "source": [
    "df.to_csv('Final.csv', index=False)"
   ]
  },
  {
   "cell_type": "code",
   "execution_count": 106,
   "id": "924a1a80",
   "metadata": {},
   "outputs": [
    {
     "name": "stdout",
     "output_type": "stream",
     "text": [
      "<class 'pandas.core.frame.DataFrame'>\n",
      "RangeIndex: 1048575 entries, 0 to 1048574\n",
      "Data columns (total 8 columns):\n",
      " #   Column                         Non-Null Count    Dtype         \n",
      "---  ------                         --------------    -----         \n",
      " 0   Loan Identifier                1048575 non-null  int32         \n",
      " 1   Repayment start date           1048575 non-null  datetime64[ns]\n",
      " 2   Loan Principal Amount          1032141 non-null  float64       \n",
      " 3   Interest Amount                1031928 non-null  float64       \n",
      " 4   Fee charge                     0 non-null        float64       \n",
      " 5   Penalty Charge                 0 non-null        float64       \n",
      " 6   Advance Payment                0 non-null        float64       \n",
      " 7   Date on which EMI was cleared  377221 non-null   datetime64[ns]\n",
      "dtypes: datetime64[ns](2), float64(5), int32(1)\n",
      "memory usage: 60.0 MB\n"
     ]
    }
   ],
   "source": [
    "df2.info()"
   ]
  },
  {
   "cell_type": "code",
   "execution_count": null,
   "id": "0379ae51",
   "metadata": {},
   "outputs": [],
   "source": []
  }
 ],
 "metadata": {
  "kernelspec": {
   "display_name": "Python 3 (ipykernel)",
   "language": "python",
   "name": "python3"
  },
  "language_info": {
   "codemirror_mode": {
    "name": "ipython",
    "version": 3
   },
   "file_extension": ".py",
   "mimetype": "text/x-python",
   "name": "python",
   "nbconvert_exporter": "python",
   "pygments_lexer": "ipython3",
   "version": "3.11.5"
  }
 },
 "nbformat": 4,
 "nbformat_minor": 5
}
